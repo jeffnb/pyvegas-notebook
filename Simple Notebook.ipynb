{
 "cells": [
  {
   "cell_type": "markdown",
   "metadata": {},
   "source": [
    "# Notebook can do markdown"
   ]
  },
  {
   "cell_type": "code",
   "execution_count": 1,
   "metadata": {
    "collapsed": false
   },
   "outputs": [
    {
     "name": "stdout",
     "output_type": "stream",
     "text": [
      "Hello world\n"
     ]
    }
   ],
   "source": [
    "print(\"Hello world\")"
   ]
  },
  {
   "cell_type": "code",
   "execution_count": 2,
   "metadata": {
    "collapsed": true
   },
   "outputs": [],
   "source": [
    "fp = open(\"web2\")"
   ]
  },
  {
   "cell_type": "markdown",
   "metadata": {},
   "source": [
    "### You can simply type a variable and it will print it out"
   ]
  },
  {
   "cell_type": "code",
   "execution_count": 3,
   "metadata": {
    "collapsed": false
   },
   "outputs": [
    {
     "data": {
      "text/plain": [
       "<open file 'web2', mode 'r' at 0x105e940c0>"
      ]
     },
     "execution_count": 3,
     "metadata": {},
     "output_type": "execute_result"
    }
   ],
   "source": [
    "fp"
   ]
  },
  {
   "cell_type": "code",
   "execution_count": 4,
   "metadata": {
    "collapsed": true
   },
   "outputs": [],
   "source": [
    "words = fp.readlines()"
   ]
  },
  {
   "cell_type": "markdown",
   "metadata": {},
   "source": [
    "### It is nice to run commands"
   ]
  },
  {
   "cell_type": "code",
   "execution_count": 11,
   "metadata": {
    "collapsed": false
   },
   "outputs": [
    {
     "name": "stdout",
     "output_type": "stream",
     "text": [
      "anthropomorphologically\n",
      "\n",
      "blepharosphincterectomy\n",
      "\n",
      "epididymodeferentectomy\n",
      "\n",
      "formaldehydesulphoxylate\n",
      "\n",
      "formaldehydesulphoxylic\n",
      "\n",
      "gastroenteroanastomosis\n",
      "\n",
      "hematospectrophotometer\n",
      "\n",
      "macracanthrorhynchiasis\n",
      "\n",
      "pancreaticoduodenostomy\n",
      "\n",
      "pathologicohistological\n",
      "\n",
      "pathologicopsychological\n",
      "\n",
      "pericardiomediastinitis\n",
      "\n",
      "phenolsulphonephthalein\n",
      "\n",
      "philosophicotheological\n",
      "\n",
      "Pseudolamellibranchiata\n",
      "\n",
      "pseudolamellibranchiate\n",
      "\n",
      "scientificogeographical\n",
      "\n",
      "scientificophilosophical\n",
      "\n",
      "tetraiodophenolphthalein\n",
      "\n",
      "thymolsulphonephthalein\n",
      "\n",
      "thyroparathyroidectomize\n",
      "\n",
      "transubstantiationalist\n",
      "\n"
     ]
    }
   ],
   "source": [
    "for word in words:\n",
    "    if len(word) > 23:\n",
    "        print(word)"
   ]
  },
  {
   "cell_type": "code",
   "execution_count": null,
   "metadata": {
    "collapsed": true
   },
   "outputs": [],
   "source": []
  }
 ],
 "metadata": {
  "kernelspec": {
   "display_name": "Python 2",
   "language": "python",
   "name": "python2"
  },
  "language_info": {
   "codemirror_mode": {
    "name": "ipython",
    "version": 2
   },
   "file_extension": ".py",
   "mimetype": "text/x-python",
   "name": "python",
   "nbconvert_exporter": "python",
   "pygments_lexer": "ipython2",
   "version": "2.7.12"
  }
 },
 "nbformat": 4,
 "nbformat_minor": 2
}
